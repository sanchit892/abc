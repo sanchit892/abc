{
 "cells": [
  {
   "cell_type": "markdown",
   "id": "cf42e435-26b3-4f55-8169-c1155cab97b3",
   "metadata": {},
   "source": [
    "# outliers"
   ]
  },
  {
   "cell_type": "code",
   "execution_count": 73,
   "id": "2c3c1677-2fd5-4eac-956e-e291fb3096ec",
   "metadata": {},
   "outputs": [],
   "source": [
    "import pandas as pd\n",
    "import numpy as np\n",
    "import seaborn as sns\n",
    "import warnings\n",
    "warnings.filterwarnings('ignore')"
   ]
  },
  {
   "cell_type": "code",
   "execution_count": 74,
   "id": "e8f663f6-207e-401b-9cf8-6e5e47e0b681",
   "metadata": {},
   "outputs": [],
   "source": [
    "df = pd.read_csv(\"house pricing delhi- MagicBricks (1).csv\")"
   ]
  },
  {
   "cell_type": "code",
   "execution_count": 28,
   "id": "696e3c68-d8b4-4665-97d6-f3a09c085988",
   "metadata": {},
   "outputs": [],
   "source": [
    "df.drop('Locality',axis=1,inplace=True)"
   ]
  },
  {
   "cell_type": "code",
   "execution_count": 29,
   "id": "588ca4fe-0a8f-41eb-b2e2-f4a0c44de215",
   "metadata": {},
   "outputs": [
    {
     "data": {
      "text/html": [
       "<div>\n",
       "<style scoped>\n",
       "    .dataframe tbody tr th:only-of-type {\n",
       "        vertical-align: middle;\n",
       "    }\n",
       "\n",
       "    .dataframe tbody tr th {\n",
       "        vertical-align: top;\n",
       "    }\n",
       "\n",
       "    .dataframe thead th {\n",
       "        text-align: right;\n",
       "    }\n",
       "</style>\n",
       "<table border=\"1\" class=\"dataframe\">\n",
       "  <thead>\n",
       "    <tr style=\"text-align: right;\">\n",
       "      <th></th>\n",
       "      <th>Area</th>\n",
       "      <th>BHK</th>\n",
       "      <th>Bathroom</th>\n",
       "      <th>Furnishing</th>\n",
       "      <th>Location</th>\n",
       "      <th>District</th>\n",
       "      <th>Parking</th>\n",
       "      <th>Status</th>\n",
       "      <th>Transaction</th>\n",
       "      <th>Type</th>\n",
       "      <th>Per_Sqft</th>\n",
       "      <th>Price</th>\n",
       "    </tr>\n",
       "  </thead>\n",
       "  <tbody>\n",
       "    <tr>\n",
       "      <th>0</th>\n",
       "      <td>950.0</td>\n",
       "      <td>2</td>\n",
       "      <td>2.0</td>\n",
       "      <td>Furnished</td>\n",
       "      <td>Karol Bagh</td>\n",
       "      <td>Central Delhi</td>\n",
       "      <td>1.0</td>\n",
       "      <td>Ready_to_move</td>\n",
       "      <td>Resale</td>\n",
       "      <td>Apartment</td>\n",
       "      <td>8761.0</td>\n",
       "      <td>12500000</td>\n",
       "    </tr>\n",
       "    <tr>\n",
       "      <th>1</th>\n",
       "      <td>535.0</td>\n",
       "      <td>2</td>\n",
       "      <td>1.0</td>\n",
       "      <td>Furnished</td>\n",
       "      <td>Karol Bagh</td>\n",
       "      <td>Central Delhi</td>\n",
       "      <td>1.0</td>\n",
       "      <td>Ready_to_move</td>\n",
       "      <td>New_Property</td>\n",
       "      <td>Apartment</td>\n",
       "      <td>7290.0</td>\n",
       "      <td>3900000</td>\n",
       "    </tr>\n",
       "    <tr>\n",
       "      <th>2</th>\n",
       "      <td>1280.0</td>\n",
       "      <td>3</td>\n",
       "      <td>3.0</td>\n",
       "      <td>Furnished</td>\n",
       "      <td>Karol Bagh</td>\n",
       "      <td>Central Delhi</td>\n",
       "      <td>2.0</td>\n",
       "      <td>Ready_to_move</td>\n",
       "      <td>Resale</td>\n",
       "      <td>Builder_Floor</td>\n",
       "      <td>14092.0</td>\n",
       "      <td>15000000</td>\n",
       "    </tr>\n",
       "    <tr>\n",
       "      <th>3</th>\n",
       "      <td>1135.0</td>\n",
       "      <td>3</td>\n",
       "      <td>3.0</td>\n",
       "      <td>Furnished</td>\n",
       "      <td>Karol Bagh</td>\n",
       "      <td>Central Delhi</td>\n",
       "      <td>2.0</td>\n",
       "      <td>Almost_ready</td>\n",
       "      <td>Resale</td>\n",
       "      <td>Apartment</td>\n",
       "      <td>22222.0</td>\n",
       "      <td>25000000</td>\n",
       "    </tr>\n",
       "    <tr>\n",
       "      <th>4</th>\n",
       "      <td>1135.0</td>\n",
       "      <td>3</td>\n",
       "      <td>3.0</td>\n",
       "      <td>Furnished</td>\n",
       "      <td>Karol Bagh</td>\n",
       "      <td>Central Delhi</td>\n",
       "      <td>2.0</td>\n",
       "      <td>Almost_ready</td>\n",
       "      <td>Resale</td>\n",
       "      <td>Apartment</td>\n",
       "      <td>22222.0</td>\n",
       "      <td>25000000</td>\n",
       "    </tr>\n",
       "    <tr>\n",
       "      <th>...</th>\n",
       "      <td>...</td>\n",
       "      <td>...</td>\n",
       "      <td>...</td>\n",
       "      <td>...</td>\n",
       "      <td>...</td>\n",
       "      <td>...</td>\n",
       "      <td>...</td>\n",
       "      <td>...</td>\n",
       "      <td>...</td>\n",
       "      <td>...</td>\n",
       "      <td>...</td>\n",
       "      <td>...</td>\n",
       "    </tr>\n",
       "    <tr>\n",
       "      <th>1209</th>\n",
       "      <td>4688.0</td>\n",
       "      <td>5</td>\n",
       "      <td>4.0</td>\n",
       "      <td>Unfurnished</td>\n",
       "      <td>Patel Nagar</td>\n",
       "      <td>West Delhi</td>\n",
       "      <td>1.0</td>\n",
       "      <td>Almost_ready</td>\n",
       "      <td>New_Property</td>\n",
       "      <td>Apartment</td>\n",
       "      <td>28797.0</td>\n",
       "      <td>135000000</td>\n",
       "    </tr>\n",
       "    <tr>\n",
       "      <th>1210</th>\n",
       "      <td>3901.0</td>\n",
       "      <td>4</td>\n",
       "      <td>4.0</td>\n",
       "      <td>Unfurnished</td>\n",
       "      <td>Patel Nagar</td>\n",
       "      <td>West Delhi</td>\n",
       "      <td>1.0</td>\n",
       "      <td>Almost_ready</td>\n",
       "      <td>New_Property</td>\n",
       "      <td>Apartment</td>\n",
       "      <td>23840.0</td>\n",
       "      <td>93000000</td>\n",
       "    </tr>\n",
       "    <tr>\n",
       "      <th>1211</th>\n",
       "      <td>2306.0</td>\n",
       "      <td>3</td>\n",
       "      <td>3.0</td>\n",
       "      <td>Unfurnished</td>\n",
       "      <td>Patel Nagar</td>\n",
       "      <td>West Delhi</td>\n",
       "      <td>1.0</td>\n",
       "      <td>Almost_ready</td>\n",
       "      <td>New_Property</td>\n",
       "      <td>Apartment</td>\n",
       "      <td>24718.0</td>\n",
       "      <td>57000000</td>\n",
       "    </tr>\n",
       "    <tr>\n",
       "      <th>1212</th>\n",
       "      <td>675.0</td>\n",
       "      <td>2</td>\n",
       "      <td>1.0</td>\n",
       "      <td>Unfurnished</td>\n",
       "      <td>Uttam Nagar</td>\n",
       "      <td>West Delhi</td>\n",
       "      <td>1.0</td>\n",
       "      <td>Ready_to_move</td>\n",
       "      <td>Resale</td>\n",
       "      <td>Builder_Floor</td>\n",
       "      <td>5794.0</td>\n",
       "      <td>2900000</td>\n",
       "    </tr>\n",
       "    <tr>\n",
       "      <th>1213</th>\n",
       "      <td>585.0</td>\n",
       "      <td>2</td>\n",
       "      <td>2.0</td>\n",
       "      <td>Unfurnished</td>\n",
       "      <td>Uttam Nagar</td>\n",
       "      <td>West Delhi</td>\n",
       "      <td>1.0</td>\n",
       "      <td>Ready_to_move</td>\n",
       "      <td>Resale</td>\n",
       "      <td>Builder_Floor</td>\n",
       "      <td>5794.0</td>\n",
       "      <td>3200000</td>\n",
       "    </tr>\n",
       "  </tbody>\n",
       "</table>\n",
       "<p>1214 rows × 12 columns</p>\n",
       "</div>"
      ],
      "text/plain": [
       "        Area  BHK  Bathroom   Furnishing     Location       District  Parking  \\\n",
       "0      950.0    2       2.0    Furnished   Karol Bagh  Central Delhi      1.0   \n",
       "1      535.0    2       1.0    Furnished   Karol Bagh  Central Delhi      1.0   \n",
       "2     1280.0    3       3.0    Furnished   Karol Bagh  Central Delhi      2.0   \n",
       "3     1135.0    3       3.0    Furnished   Karol Bagh  Central Delhi      2.0   \n",
       "4     1135.0    3       3.0    Furnished   Karol Bagh  Central Delhi      2.0   \n",
       "...      ...  ...       ...          ...          ...            ...      ...   \n",
       "1209  4688.0    5       4.0  Unfurnished  Patel Nagar     West Delhi      1.0   \n",
       "1210  3901.0    4       4.0  Unfurnished  Patel Nagar     West Delhi      1.0   \n",
       "1211  2306.0    3       3.0  Unfurnished  Patel Nagar     West Delhi      1.0   \n",
       "1212   675.0    2       1.0  Unfurnished  Uttam Nagar     West Delhi      1.0   \n",
       "1213   585.0    2       2.0  Unfurnished  Uttam Nagar     West Delhi      1.0   \n",
       "\n",
       "             Status   Transaction           Type  Per_Sqft      Price  \n",
       "0     Ready_to_move        Resale      Apartment    8761.0   12500000  \n",
       "1     Ready_to_move  New_Property      Apartment    7290.0    3900000  \n",
       "2     Ready_to_move        Resale  Builder_Floor   14092.0   15000000  \n",
       "3      Almost_ready        Resale      Apartment   22222.0   25000000  \n",
       "4      Almost_ready        Resale      Apartment   22222.0   25000000  \n",
       "...             ...           ...            ...       ...        ...  \n",
       "1209   Almost_ready  New_Property      Apartment   28797.0  135000000  \n",
       "1210   Almost_ready  New_Property      Apartment   23840.0   93000000  \n",
       "1211   Almost_ready  New_Property      Apartment   24718.0   57000000  \n",
       "1212  Ready_to_move        Resale  Builder_Floor    5794.0    2900000  \n",
       "1213  Ready_to_move        Resale  Builder_Floor    5794.0    3200000  \n",
       "\n",
       "[1214 rows x 12 columns]"
      ]
     },
     "execution_count": 29,
     "metadata": {},
     "output_type": "execute_result"
    }
   ],
   "source": [
    "df"
   ]
  },
  {
   "cell_type": "code",
   "execution_count": 30,
   "id": "662c4bde-dc60-4f3e-b30f-a533d4679f6f",
   "metadata": {},
   "outputs": [
    {
     "data": {
      "text/plain": [
       "0        12500000\n",
       "1         3900000\n",
       "2        15000000\n",
       "3        25000000\n",
       "4        25000000\n",
       "          ...    \n",
       "1209    135000000\n",
       "1210     93000000\n",
       "1211     57000000\n",
       "1212      2900000\n",
       "1213      3200000\n",
       "Name: Price, Length: 1214, dtype: int64"
      ]
     },
     "execution_count": 30,
     "metadata": {},
     "output_type": "execute_result"
    }
   ],
   "source": [
    "df.Price"
   ]
  },
  {
   "cell_type": "code",
   "execution_count": 31,
   "id": "77732cb5-f57e-4285-8416-e7b1e7b426fc",
   "metadata": {},
   "outputs": [
    {
     "data": {
      "text/plain": [
       "<Axes: xlabel='Price'>"
      ]
     },
     "execution_count": 31,
     "metadata": {},
     "output_type": "execute_result"
    },
    {
     "data": {
      "image/png": "[encoded data removed]",
      "text/plain": [
       "<Figure size 640x480 with 1 Axes>"
      ]
     },
     "metadata": {},
     "output_type": "display_data"
    }
   ],
   "source": [
    "# Check outliers with boxplot\n",
    "\n",
    "sns.boxplot(df.Price,orient='h')"
   ]
  },
  {
   "cell_type": "code",
   "execution_count": 32,
   "id": "691382da-ea4d-48df-8be4-8f02bee645aa",
   "metadata": {},
   "outputs": [
    {
     "data": {
      "text/plain": [
       "<Axes: xlabel='Area', ylabel='Price'>"
      ]
     },
     "execution_count": 32,
     "metadata": {},
     "output_type": "execute_result"
    },
    {
     "data": {
      "image/png": "[encoded data removed]",
      "text/plain": [
       "<Figure size 640x480 with 1 Axes>"
      ]
     },
     "metadata": {},
     "output_type": "display_data"
    }
   ],
   "source": [
    "sns.scatterplot(x=df.Area,y=df.Price)"
   ]
  },
  {
   "cell_type": "code",
   "execution_count": null,
   "id": "3966e9b1-3bcf-46cc-9272-21728d66fd39",
   "metadata": {},
   "outputs": [],
   "source": []
  },
  {
   "cell_type": "code",
   "execution_count": 13,
   "id": "5c10a499-70b0-489c-889a-1d02be75b0b8",
   "metadata": {},
   "outputs": [
    {
     "data": {
      "text/html": [
       "<div>\n",
       "<style scoped>\n",
       "    .dataframe tbody tr th:only-of-type {\n",
       "        vertical-align: middle;\n",
       "    }\n",
       "\n",
       "    .dataframe tbody tr th {\n",
       "        vertical-align: top;\n",
       "    }\n",
       "\n",
       "    .dataframe thead th {\n",
       "        text-align: right;\n",
       "    }\n",
       "</style>\n",
       "<table border=\"1\" class=\"dataframe\">\n",
       "  <thead>\n",
       "    <tr style=\"text-align: right;\">\n",
       "      <th></th>\n",
       "      <th>Area</th>\n",
       "      <th>BHK</th>\n",
       "      <th>Bathroom</th>\n",
       "      <th>Parking</th>\n",
       "      <th>Per_Sqft</th>\n",
       "      <th>Price</th>\n",
       "    </tr>\n",
       "  </thead>\n",
       "  <tbody>\n",
       "    <tr>\n",
       "      <th>count</th>\n",
       "      <td>1214.000000</td>\n",
       "      <td>1214.000000</td>\n",
       "      <td>1212.000000</td>\n",
       "      <td>1182.000000</td>\n",
       "      <td>973.000000</td>\n",
       "      <td>1.214000e+03</td>\n",
       "    </tr>\n",
       "    <tr>\n",
       "      <th>mean</th>\n",
       "      <td>1451.850751</td>\n",
       "      <td>2.778418</td>\n",
       "      <td>2.523927</td>\n",
       "      <td>1.708122</td>\n",
       "      <td>15574.885920</td>\n",
       "      <td>2.079898e+07</td>\n",
       "    </tr>\n",
       "    <tr>\n",
       "      <th>std</th>\n",
       "      <td>1586.472855</td>\n",
       "      <td>0.946811</td>\n",
       "      <td>1.017723</td>\n",
       "      <td>5.717177</td>\n",
       "      <td>21574.389007</td>\n",
       "      <td>2.561308e+07</td>\n",
       "    </tr>\n",
       "    <tr>\n",
       "      <th>min</th>\n",
       "      <td>28.000000</td>\n",
       "      <td>1.000000</td>\n",
       "      <td>1.000000</td>\n",
       "      <td>1.000000</td>\n",
       "      <td>1259.000000</td>\n",
       "      <td>1.000000e+06</td>\n",
       "    </tr>\n",
       "    <tr>\n",
       "      <th>25%</th>\n",
       "      <td>800.000000</td>\n",
       "      <td>2.000000</td>\n",
       "      <td>2.000000</td>\n",
       "      <td>1.000000</td>\n",
       "      <td>6154.000000</td>\n",
       "      <td>5.600000e+06</td>\n",
       "    </tr>\n",
       "    <tr>\n",
       "      <th>50%</th>\n",
       "      <td>1150.000000</td>\n",
       "      <td>3.000000</td>\n",
       "      <td>2.000000</td>\n",
       "      <td>1.000000</td>\n",
       "      <td>10838.000000</td>\n",
       "      <td>1.400000e+07</td>\n",
       "    </tr>\n",
       "    <tr>\n",
       "      <th>75%</th>\n",
       "      <td>1620.000000</td>\n",
       "      <td>3.000000</td>\n",
       "      <td>3.000000</td>\n",
       "      <td>2.000000</td>\n",
       "      <td>17647.000000</td>\n",
       "      <td>2.500000e+07</td>\n",
       "    </tr>\n",
       "    <tr>\n",
       "      <th>max</th>\n",
       "      <td>24300.000000</td>\n",
       "      <td>10.000000</td>\n",
       "      <td>7.000000</td>\n",
       "      <td>114.000000</td>\n",
       "      <td>183333.000000</td>\n",
       "      <td>2.400000e+08</td>\n",
       "    </tr>\n",
       "  </tbody>\n",
       "</table>\n",
       "</div>"
      ],
      "text/plain": [
       "               Area          BHK     Bathroom      Parking       Per_Sqft  \\\n",
       "count   1214.000000  1214.000000  1212.000000  1182.000000     973.000000   \n",
       "mean    1451.850751     2.778418     2.523927     1.708122   15574.885920   \n",
       "std     1586.472855     0.946811     1.017723     5.717177   21574.389007   \n",
       "min       28.000000     1.000000     1.000000     1.000000    1259.000000   \n",
       "25%      800.000000     2.000000     2.000000     1.000000    6154.000000   \n",
       "50%     1150.000000     3.000000     2.000000     1.000000   10838.000000   \n",
       "75%     1620.000000     3.000000     3.000000     2.000000   17647.000000   \n",
       "max    24300.000000    10.000000     7.000000   114.000000  183333.000000   \n",
       "\n",
       "              Price  \n",
       "count  1.214000e+03  \n",
       "mean   2.079898e+07  \n",
       "std    2.561308e+07  \n",
       "min    1.000000e+06  \n",
       "25%    5.600000e+06  \n",
       "50%    1.400000e+07  \n",
       "75%    2.500000e+07  \n",
       "max    2.400000e+08  "
      ]
     },
     "execution_count": 13,
     "metadata": {},
     "output_type": "execute_result"
    }
   ],
   "source": [
    "df.describe()"
   ]
  },
  {
   "cell_type": "code",
   "execution_count": 33,
   "id": "380eb467-64f6-43ab-98d9-eb09c2d10e36",
   "metadata": {},
   "outputs": [
    {
     "data": {
      "text/html": [
       "<div>\n",
       "<style scoped>\n",
       "    .dataframe tbody tr th:only-of-type {\n",
       "        vertical-align: middle;\n",
       "    }\n",
       "\n",
       "    .dataframe tbody tr th {\n",
       "        vertical-align: top;\n",
       "    }\n",
       "\n",
       "    .dataframe thead th {\n",
       "        text-align: right;\n",
       "    }\n",
       "</style>\n",
       "<table border=\"1\" class=\"dataframe\">\n",
       "  <thead>\n",
       "    <tr style=\"text-align: right;\">\n",
       "      <th></th>\n",
       "      <th>Area</th>\n",
       "      <th>BHK</th>\n",
       "      <th>Bathroom</th>\n",
       "      <th>Furnishing</th>\n",
       "      <th>Location</th>\n",
       "      <th>District</th>\n",
       "      <th>Parking</th>\n",
       "      <th>Status</th>\n",
       "      <th>Transaction</th>\n",
       "      <th>Type</th>\n",
       "      <th>Per_Sqft</th>\n",
       "      <th>Price</th>\n",
       "    </tr>\n",
       "  </thead>\n",
       "  <tbody>\n",
       "    <tr>\n",
       "      <th>0</th>\n",
       "      <td>950.0</td>\n",
       "      <td>2</td>\n",
       "      <td>2.0</td>\n",
       "      <td>Furnished</td>\n",
       "      <td>Karol Bagh</td>\n",
       "      <td>Central Delhi</td>\n",
       "      <td>1.0</td>\n",
       "      <td>Ready_to_move</td>\n",
       "      <td>Resale</td>\n",
       "      <td>Apartment</td>\n",
       "      <td>8761.0</td>\n",
       "      <td>12500000</td>\n",
       "    </tr>\n",
       "    <tr>\n",
       "      <th>1</th>\n",
       "      <td>535.0</td>\n",
       "      <td>2</td>\n",
       "      <td>1.0</td>\n",
       "      <td>Furnished</td>\n",
       "      <td>Karol Bagh</td>\n",
       "      <td>Central Delhi</td>\n",
       "      <td>1.0</td>\n",
       "      <td>Ready_to_move</td>\n",
       "      <td>New_Property</td>\n",
       "      <td>Apartment</td>\n",
       "      <td>7290.0</td>\n",
       "      <td>3900000</td>\n",
       "    </tr>\n",
       "    <tr>\n",
       "      <th>2</th>\n",
       "      <td>1280.0</td>\n",
       "      <td>3</td>\n",
       "      <td>3.0</td>\n",
       "      <td>Furnished</td>\n",
       "      <td>Karol Bagh</td>\n",
       "      <td>Central Delhi</td>\n",
       "      <td>2.0</td>\n",
       "      <td>Ready_to_move</td>\n",
       "      <td>Resale</td>\n",
       "      <td>Builder_Floor</td>\n",
       "      <td>14092.0</td>\n",
       "      <td>15000000</td>\n",
       "    </tr>\n",
       "    <tr>\n",
       "      <th>3</th>\n",
       "      <td>1135.0</td>\n",
       "      <td>3</td>\n",
       "      <td>3.0</td>\n",
       "      <td>Furnished</td>\n",
       "      <td>Karol Bagh</td>\n",
       "      <td>Central Delhi</td>\n",
       "      <td>2.0</td>\n",
       "      <td>Almost_ready</td>\n",
       "      <td>Resale</td>\n",
       "      <td>Apartment</td>\n",
       "      <td>22222.0</td>\n",
       "      <td>25000000</td>\n",
       "    </tr>\n",
       "    <tr>\n",
       "      <th>4</th>\n",
       "      <td>1135.0</td>\n",
       "      <td>3</td>\n",
       "      <td>3.0</td>\n",
       "      <td>Furnished</td>\n",
       "      <td>Karol Bagh</td>\n",
       "      <td>Central Delhi</td>\n",
       "      <td>2.0</td>\n",
       "      <td>Almost_ready</td>\n",
       "      <td>Resale</td>\n",
       "      <td>Apartment</td>\n",
       "      <td>22222.0</td>\n",
       "      <td>25000000</td>\n",
       "    </tr>\n",
       "    <tr>\n",
       "      <th>...</th>\n",
       "      <td>...</td>\n",
       "      <td>...</td>\n",
       "      <td>...</td>\n",
       "      <td>...</td>\n",
       "      <td>...</td>\n",
       "      <td>...</td>\n",
       "      <td>...</td>\n",
       "      <td>...</td>\n",
       "      <td>...</td>\n",
       "      <td>...</td>\n",
       "      <td>...</td>\n",
       "      <td>...</td>\n",
       "    </tr>\n",
       "    <tr>\n",
       "      <th>1209</th>\n",
       "      <td>4688.0</td>\n",
       "      <td>5</td>\n",
       "      <td>4.0</td>\n",
       "      <td>Unfurnished</td>\n",
       "      <td>Patel Nagar</td>\n",
       "      <td>West Delhi</td>\n",
       "      <td>1.0</td>\n",
       "      <td>Almost_ready</td>\n",
       "      <td>New_Property</td>\n",
       "      <td>Apartment</td>\n",
       "      <td>28797.0</td>\n",
       "      <td>135000000</td>\n",
       "    </tr>\n",
       "    <tr>\n",
       "      <th>1210</th>\n",
       "      <td>3901.0</td>\n",
       "      <td>4</td>\n",
       "      <td>4.0</td>\n",
       "      <td>Unfurnished</td>\n",
       "      <td>Patel Nagar</td>\n",
       "      <td>West Delhi</td>\n",
       "      <td>1.0</td>\n",
       "      <td>Almost_ready</td>\n",
       "      <td>New_Property</td>\n",
       "      <td>Apartment</td>\n",
       "      <td>23840.0</td>\n",
       "      <td>93000000</td>\n",
       "    </tr>\n",
       "    <tr>\n",
       "      <th>1211</th>\n",
       "      <td>2306.0</td>\n",
       "      <td>3</td>\n",
       "      <td>3.0</td>\n",
       "      <td>Unfurnished</td>\n",
       "      <td>Patel Nagar</td>\n",
       "      <td>West Delhi</td>\n",
       "      <td>1.0</td>\n",
       "      <td>Almost_ready</td>\n",
       "      <td>New_Property</td>\n",
       "      <td>Apartment</td>\n",
       "      <td>24718.0</td>\n",
       "      <td>57000000</td>\n",
       "    </tr>\n",
       "    <tr>\n",
       "      <th>1212</th>\n",
       "      <td>675.0</td>\n",
       "      <td>2</td>\n",
       "      <td>1.0</td>\n",
       "      <td>Unfurnished</td>\n",
       "      <td>Uttam Nagar</td>\n",
       "      <td>West Delhi</td>\n",
       "      <td>1.0</td>\n",
       "      <td>Ready_to_move</td>\n",
       "      <td>Resale</td>\n",
       "      <td>Builder_Floor</td>\n",
       "      <td>5794.0</td>\n",
       "      <td>2900000</td>\n",
       "    </tr>\n",
       "    <tr>\n",
       "      <th>1213</th>\n",
       "      <td>585.0</td>\n",
       "      <td>2</td>\n",
       "      <td>2.0</td>\n",
       "      <td>Unfurnished</td>\n",
       "      <td>Uttam Nagar</td>\n",
       "      <td>West Delhi</td>\n",
       "      <td>1.0</td>\n",
       "      <td>Ready_to_move</td>\n",
       "      <td>Resale</td>\n",
       "      <td>Builder_Floor</td>\n",
       "      <td>5794.0</td>\n",
       "      <td>3200000</td>\n",
       "    </tr>\n",
       "  </tbody>\n",
       "</table>\n",
       "<p>1214 rows × 12 columns</p>\n",
       "</div>"
      ],
      "text/plain": [
       "        Area  BHK  Bathroom   Furnishing     Location       District  Parking  \\\n",
       "0      950.0    2       2.0    Furnished   Karol Bagh  Central Delhi      1.0   \n",
       "1      535.0    2       1.0    Furnished   Karol Bagh  Central Delhi      1.0   \n",
       "2     1280.0    3       3.0    Furnished   Karol Bagh  Central Delhi      2.0   \n",
       "3     1135.0    3       3.0    Furnished   Karol Bagh  Central Delhi      2.0   \n",
       "4     1135.0    3       3.0    Furnished   Karol Bagh  Central Delhi      2.0   \n",
       "...      ...  ...       ...          ...          ...            ...      ...   \n",
       "1209  4688.0    5       4.0  Unfurnished  Patel Nagar     West Delhi      1.0   \n",
       "1210  3901.0    4       4.0  Unfurnished  Patel Nagar     West Delhi      1.0   \n",
       "1211  2306.0    3       3.0  Unfurnished  Patel Nagar     West Delhi      1.0   \n",
       "1212   675.0    2       1.0  Unfurnished  Uttam Nagar     West Delhi      1.0   \n",
       "1213   585.0    2       2.0  Unfurnished  Uttam Nagar     West Delhi      1.0   \n",
       "\n",
       "             Status   Transaction           Type  Per_Sqft      Price  \n",
       "0     Ready_to_move        Resale      Apartment    8761.0   12500000  \n",
       "1     Ready_to_move  New_Property      Apartment    7290.0    3900000  \n",
       "2     Ready_to_move        Resale  Builder_Floor   14092.0   15000000  \n",
       "3      Almost_ready        Resale      Apartment   22222.0   25000000  \n",
       "4      Almost_ready        Resale      Apartment   22222.0   25000000  \n",
       "...             ...           ...            ...       ...        ...  \n",
       "1209   Almost_ready  New_Property      Apartment   28797.0  135000000  \n",
       "1210   Almost_ready  New_Property      Apartment   23840.0   93000000  \n",
       "1211   Almost_ready  New_Property      Apartment   24718.0   57000000  \n",
       "1212  Ready_to_move        Resale  Builder_Floor    5794.0    2900000  \n",
       "1213  Ready_to_move        Resale  Builder_Floor    5794.0    3200000  \n",
       "\n",
       "[1214 rows x 12 columns]"
      ]
     },
     "execution_count": 33,
     "metadata": {},
     "output_type": "execute_result"
    }
   ],
   "source": [
    "df"
   ]
  },
  {
   "cell_type": "code",
   "execution_count": 34,
   "id": "33032328-e6f1-412d-b422-a438112a18b1",
   "metadata": {},
   "outputs": [],
   "source": [
    "# STEP 1 : to find out Q1 and Q3\n",
    "\n",
    "Q1,Q3 = df.Price.quantile([0.25,0.75])"
   ]
  },
  {
   "cell_type": "code",
   "execution_count": 35,
   "id": "cd33a9cd-58e4-4756-a6f6-d49da05a38f3",
   "metadata": {},
   "outputs": [
    {
     "data": {
      "text/plain": [
       "(5600000.0, 25000000.0)"
      ]
     },
     "execution_count": 35,
     "metadata": {},
     "output_type": "execute_result"
    }
   ],
   "source": [
    "Q1,Q3"
   ]
  },
  {
   "cell_type": "code",
   "execution_count": 36,
   "id": "2bf439cd-2108-428e-9b9e-de6e535b2d98",
   "metadata": {},
   "outputs": [],
   "source": [
    "# Step 2 : Finding IQR \n",
    "\n",
    "IQR = Q3 - Q1"
   ]
  },
  {
   "cell_type": "code",
   "execution_count": 37,
   "id": "c58bb76d-b683-4668-b31b-a4f343a11e78",
   "metadata": {},
   "outputs": [
    {
     "data": {
      "text/plain": [
       "19400000.0"
      ]
     },
     "execution_count": 37,
     "metadata": {},
     "output_type": "execute_result"
    }
   ],
   "source": [
    "IQR"
   ]
  },
  {
   "cell_type": "code",
   "execution_count": 38,
   "id": "2c7d582c-b0e3-49b5-b6ec-2daf38057d85",
   "metadata": {},
   "outputs": [],
   "source": [
    "UL = Q3 + 1.5 * (IQR)\n",
    "LL = Q1 - 1.5 * (IQR)"
   ]
  },
  {
   "cell_type": "code",
   "execution_count": 39,
   "id": "76931511-8fa1-40e8-9412-2a0a0b2cafed",
   "metadata": {},
   "outputs": [
    {
     "data": {
      "text/plain": [
       "(-23500000.0, 54100000.0)"
      ]
     },
     "execution_count": 39,
     "metadata": {},
     "output_type": "execute_result"
    }
   ],
   "source": [
    "LL,UL"
   ]
  },
  {
   "cell_type": "code",
   "execution_count": 40,
   "id": "3ac958e0-a7ea-41ab-b805-ed99a6a1c256",
   "metadata": {},
   "outputs": [],
   "source": [
    "# How to Replace Outliers.\n",
    "\n",
    "df.Price = np.where(df.Price>UL,UL,df.Price)"
   ]
  },
  {
   "cell_type": "code",
   "execution_count": 41,
   "id": "c45023fa-800d-4a1e-a3c5-bdc94ef59950",
   "metadata": {},
   "outputs": [
    {
     "data": {
      "text/plain": [
       "<Axes: xlabel='Price'>"
      ]
     },
     "execution_count": 41,
     "metadata": {},
     "output_type": "execute_result"
    },
    {
     "data": {
      "image/png": "[encoded data removed]",
      "text/plain": [
       "<Figure size 640x480 with 1 Axes>"
      ]
     },
     "metadata": {},
     "output_type": "display_data"
    }
   ],
   "source": [
    "sns.boxplot(df.Price,orient='h')"
   ]
  },
  {
   "cell_type": "code",
   "execution_count": 42,
   "id": "f91de11d-49a1-4cfb-82b2-8558eb136e93",
   "metadata": {},
   "outputs": [
    {
     "data": {
      "text/plain": [
       "<Axes: xlabel='Area', ylabel='Price'>"
      ]
     },
     "execution_count": 42,
     "metadata": {},
     "output_type": "execute_result"
    },
    {
     "data": {
      "image/png": "[encoded data removed]",
      "text/plain": [
       "<Figure size 640x480 with 1 Axes>"
      ]
     },
     "metadata": {},
     "output_type": "display_data"
    }
   ],
   "source": [
    "sns.scatterplot(x=df.Area,y=df.Price)"
   ]
  },
  {
   "cell_type": "code",
   "execution_count": 43,
   "id": "8238abb4-a23e-4dc8-9d81-a3bd1510f68d",
   "metadata": {},
   "outputs": [],
   "source": [
    "Q1,Q3  = df.Area.quantile([0.25,0.75])"
   ]
  },
  {
   "cell_type": "code",
   "execution_count": 44,
   "id": "a822e3a3-04b7-4842-a911-db346f10d24f",
   "metadata": {},
   "outputs": [],
   "source": [
    "IQR = Q3 - Q1"
   ]
  },
  {
   "cell_type": "code",
   "execution_count": 45,
   "id": "14a64a76-3233-4fae-b55b-7fbf12cbb575",
   "metadata": {},
   "outputs": [
    {
     "data": {
      "text/plain": [
       "820.0"
      ]
     },
     "execution_count": 45,
     "metadata": {},
     "output_type": "execute_result"
    }
   ],
   "source": [
    "IQR"
   ]
  },
  {
   "cell_type": "code",
   "execution_count": 46,
   "id": "9e24ff75-1517-4d2e-9bd5-f7008a5cd50f",
   "metadata": {},
   "outputs": [],
   "source": [
    "UL = Q3 + 1.5 * (IQR)"
   ]
  },
  {
   "cell_type": "code",
   "execution_count": 47,
   "id": "3cd43635-91bd-42e7-a327-82d632a2c2c8",
   "metadata": {},
   "outputs": [
    {
     "data": {
      "text/plain": [
       "2850.0"
      ]
     },
     "execution_count": 47,
     "metadata": {},
     "output_type": "execute_result"
    }
   ],
   "source": [
    "UL"
   ]
  },
  {
   "cell_type": "code",
   "execution_count": 49,
   "id": "bee16c16-b712-49d5-8572-ca6fc54192b4",
   "metadata": {},
   "outputs": [],
   "source": [
    "df.Area = np.where(df.Area>UL,UL,df.Area)"
   ]
  },
  {
   "cell_type": "code",
   "execution_count": 50,
   "id": "1b722a35-dcff-4ef2-837a-a51387e0c0b2",
   "metadata": {},
   "outputs": [
    {
     "data": {
      "text/plain": [
       "<Axes: xlabel='Area', ylabel='Price'>"
      ]
     },
     "execution_count": 50,
     "metadata": {},
     "output_type": "execute_result"
    },
    {
     "data": {
      "image/png": "[encoded data removed]",
      "text/plain": [
       "<Figure size 640x480 with 1 Axes>"
      ]
     },
     "metadata": {},
     "output_type": "display_data"
    }
   ],
   "source": [
    "sns.scatterplot(x=df.Area,y=df.Price)"
   ]
  },
  {
   "cell_type": "markdown",
   "id": "16c2b70c-eca6-421b-957d-2b42986a6851",
   "metadata": {},
   "source": [
    "# Data Visualizations with Pandas"
   ]
  },
  {
   "cell_type": "code",
   "execution_count": 51,
   "id": "e4b93adf-52da-4b9c-9050-555de22cd7bf",
   "metadata": {},
   "outputs": [
    {
     "data": {
      "text/html": [
       "<div>\n",
       "<style scoped>\n",
       "    .dataframe tbody tr th:only-of-type {\n",
       "        vertical-align: middle;\n",
       "    }\n",
       "\n",
       "    .dataframe tbody tr th {\n",
       "        vertical-align: top;\n",
       "    }\n",
       "\n",
       "    .dataframe thead th {\n",
       "        text-align: right;\n",
       "    }\n",
       "</style>\n",
       "<table border=\"1\" class=\"dataframe\">\n",
       "  <thead>\n",
       "    <tr style=\"text-align: right;\">\n",
       "      <th></th>\n",
       "      <th>Area</th>\n",
       "      <th>BHK</th>\n",
       "      <th>Bathroom</th>\n",
       "      <th>Furnishing</th>\n",
       "      <th>Location</th>\n",
       "      <th>District</th>\n",
       "      <th>Parking</th>\n",
       "      <th>Status</th>\n",
       "      <th>Transaction</th>\n",
       "      <th>Type</th>\n",
       "      <th>Per_Sqft</th>\n",
       "      <th>Price</th>\n",
       "    </tr>\n",
       "  </thead>\n",
       "  <tbody>\n",
       "    <tr>\n",
       "      <th>0</th>\n",
       "      <td>950.0</td>\n",
       "      <td>2</td>\n",
       "      <td>2.0</td>\n",
       "      <td>Furnished</td>\n",
       "      <td>Karol Bagh</td>\n",
       "      <td>Central Delhi</td>\n",
       "      <td>1.0</td>\n",
       "      <td>Ready_to_move</td>\n",
       "      <td>Resale</td>\n",
       "      <td>Apartment</td>\n",
       "      <td>8761.0</td>\n",
       "      <td>12500000.0</td>\n",
       "    </tr>\n",
       "    <tr>\n",
       "      <th>1</th>\n",
       "      <td>535.0</td>\n",
       "      <td>2</td>\n",
       "      <td>1.0</td>\n",
       "      <td>Furnished</td>\n",
       "      <td>Karol Bagh</td>\n",
       "      <td>Central Delhi</td>\n",
       "      <td>1.0</td>\n",
       "      <td>Ready_to_move</td>\n",
       "      <td>New_Property</td>\n",
       "      <td>Apartment</td>\n",
       "      <td>7290.0</td>\n",
       "      <td>3900000.0</td>\n",
       "    </tr>\n",
       "    <tr>\n",
       "      <th>2</th>\n",
       "      <td>1280.0</td>\n",
       "      <td>3</td>\n",
       "      <td>3.0</td>\n",
       "      <td>Furnished</td>\n",
       "      <td>Karol Bagh</td>\n",
       "      <td>Central Delhi</td>\n",
       "      <td>2.0</td>\n",
       "      <td>Ready_to_move</td>\n",
       "      <td>Resale</td>\n",
       "      <td>Builder_Floor</td>\n",
       "      <td>14092.0</td>\n",
       "      <td>15000000.0</td>\n",
       "    </tr>\n",
       "    <tr>\n",
       "      <th>3</th>\n",
       "      <td>1135.0</td>\n",
       "      <td>3</td>\n",
       "      <td>3.0</td>\n",
       "      <td>Furnished</td>\n",
       "      <td>Karol Bagh</td>\n",
       "      <td>Central Delhi</td>\n",
       "      <td>2.0</td>\n",
       "      <td>Almost_ready</td>\n",
       "      <td>Resale</td>\n",
       "      <td>Apartment</td>\n",
       "      <td>22222.0</td>\n",
       "      <td>25000000.0</td>\n",
       "    </tr>\n",
       "    <tr>\n",
       "      <th>4</th>\n",
       "      <td>1135.0</td>\n",
       "      <td>3</td>\n",
       "      <td>3.0</td>\n",
       "      <td>Furnished</td>\n",
       "      <td>Karol Bagh</td>\n",
       "      <td>Central Delhi</td>\n",
       "      <td>2.0</td>\n",
       "      <td>Almost_ready</td>\n",
       "      <td>Resale</td>\n",
       "      <td>Apartment</td>\n",
       "      <td>22222.0</td>\n",
       "      <td>25000000.0</td>\n",
       "    </tr>\n",
       "    <tr>\n",
       "      <th>...</th>\n",
       "      <td>...</td>\n",
       "      <td>...</td>\n",
       "      <td>...</td>\n",
       "      <td>...</td>\n",
       "      <td>...</td>\n",
       "      <td>...</td>\n",
       "      <td>...</td>\n",
       "      <td>...</td>\n",
       "      <td>...</td>\n",
       "      <td>...</td>\n",
       "      <td>...</td>\n",
       "      <td>...</td>\n",
       "    </tr>\n",
       "    <tr>\n",
       "      <th>1209</th>\n",
       "      <td>2850.0</td>\n",
       "      <td>5</td>\n",
       "      <td>4.0</td>\n",
       "      <td>Unfurnished</td>\n",
       "      <td>Patel Nagar</td>\n",
       "      <td>West Delhi</td>\n",
       "      <td>1.0</td>\n",
       "      <td>Almost_ready</td>\n",
       "      <td>New_Property</td>\n",
       "      <td>Apartment</td>\n",
       "      <td>28797.0</td>\n",
       "      <td>54100000.0</td>\n",
       "    </tr>\n",
       "    <tr>\n",
       "      <th>1210</th>\n",
       "      <td>2850.0</td>\n",
       "      <td>4</td>\n",
       "      <td>4.0</td>\n",
       "      <td>Unfurnished</td>\n",
       "      <td>Patel Nagar</td>\n",
       "      <td>West Delhi</td>\n",
       "      <td>1.0</td>\n",
       "      <td>Almost_ready</td>\n",
       "      <td>New_Property</td>\n",
       "      <td>Apartment</td>\n",
       "      <td>23840.0</td>\n",
       "      <td>54100000.0</td>\n",
       "    </tr>\n",
       "    <tr>\n",
       "      <th>1211</th>\n",
       "      <td>2306.0</td>\n",
       "      <td>3</td>\n",
       "      <td>3.0</td>\n",
       "      <td>Unfurnished</td>\n",
       "      <td>Patel Nagar</td>\n",
       "      <td>West Delhi</td>\n",
       "      <td>1.0</td>\n",
       "      <td>Almost_ready</td>\n",
       "      <td>New_Property</td>\n",
       "      <td>Apartment</td>\n",
       "      <td>24718.0</td>\n",
       "      <td>54100000.0</td>\n",
       "    </tr>\n",
       "    <tr>\n",
       "      <th>1212</th>\n",
       "      <td>675.0</td>\n",
       "      <td>2</td>\n",
       "      <td>1.0</td>\n",
       "      <td>Unfurnished</td>\n",
       "      <td>Uttam Nagar</td>\n",
       "      <td>West Delhi</td>\n",
       "      <td>1.0</td>\n",
       "      <td>Ready_to_move</td>\n",
       "      <td>Resale</td>\n",
       "      <td>Builder_Floor</td>\n",
       "      <td>5794.0</td>\n",
       "      <td>2900000.0</td>\n",
       "    </tr>\n",
       "    <tr>\n",
       "      <th>1213</th>\n",
       "      <td>585.0</td>\n",
       "      <td>2</td>\n",
       "      <td>2.0</td>\n",
       "      <td>Unfurnished</td>\n",
       "      <td>Uttam Nagar</td>\n",
       "      <td>West Delhi</td>\n",
       "      <td>1.0</td>\n",
       "      <td>Ready_to_move</td>\n",
       "      <td>Resale</td>\n",
       "      <td>Builder_Floor</td>\n",
       "      <td>5794.0</td>\n",
       "      <td>3200000.0</td>\n",
       "    </tr>\n",
       "  </tbody>\n",
       "</table>\n",
       "<p>1214 rows × 12 columns</p>\n",
       "</div>"
      ],
      "text/plain": [
       "        Area  BHK  Bathroom   Furnishing     Location       District  Parking  \\\n",
       "0      950.0    2       2.0    Furnished   Karol Bagh  Central Delhi      1.0   \n",
       "1      535.0    2       1.0    Furnished   Karol Bagh  Central Delhi      1.0   \n",
       "2     1280.0    3       3.0    Furnished   Karol Bagh  Central Delhi      2.0   \n",
       "3     1135.0    3       3.0    Furnished   Karol Bagh  Central Delhi      2.0   \n",
       "4     1135.0    3       3.0    Furnished   Karol Bagh  Central Delhi      2.0   \n",
       "...      ...  ...       ...          ...          ...            ...      ...   \n",
       "1209  2850.0    5       4.0  Unfurnished  Patel Nagar     West Delhi      1.0   \n",
       "1210  2850.0    4       4.0  Unfurnished  Patel Nagar     West Delhi      1.0   \n",
       "1211  2306.0    3       3.0  Unfurnished  Patel Nagar     West Delhi      1.0   \n",
       "1212   675.0    2       1.0  Unfurnished  Uttam Nagar     West Delhi      1.0   \n",
       "1213   585.0    2       2.0  Unfurnished  Uttam Nagar     West Delhi      1.0   \n",
       "\n",
       "             Status   Transaction           Type  Per_Sqft       Price  \n",
       "0     Ready_to_move        Resale      Apartment    8761.0  12500000.0  \n",
       "1     Ready_to_move  New_Property      Apartment    7290.0   3900000.0  \n",
       "2     Ready_to_move        Resale  Builder_Floor   14092.0  15000000.0  \n",
       "3      Almost_ready        Resale      Apartment   22222.0  25000000.0  \n",
       "4      Almost_ready        Resale      Apartment   22222.0  25000000.0  \n",
       "...             ...           ...            ...       ...         ...  \n",
       "1209   Almost_ready  New_Property      Apartment   28797.0  54100000.0  \n",
       "1210   Almost_ready  New_Property      Apartment   23840.0  54100000.0  \n",
       "1211   Almost_ready  New_Property      Apartment   24718.0  54100000.0  \n",
       "1212  Ready_to_move        Resale  Builder_Floor    5794.0   2900000.0  \n",
       "1213  Ready_to_move        Resale  Builder_Floor    5794.0   3200000.0  \n",
       "\n",
       "[1214 rows x 12 columns]"
      ]
     },
     "execution_count": 51,
     "metadata": {},
     "output_type": "execute_result"
    }
   ],
   "source": [
    "df"
   ]
  },
  {
   "cell_type": "code",
   "execution_count": 54,
   "id": "ef665f0a-a300-4938-84f5-fde0a4f2c8ad",
   "metadata": {},
   "outputs": [
    {
     "data": {
      "text/plain": [
       "<Axes: xlabel='Location'>"
      ]
     },
     "execution_count": 54,
     "metadata": {},
     "output_type": "execute_result"
    },
    {
     "data": {
      "image/png": "[encoded data removed]",
      "text/plain": [
       "<Figure size 640x480 with 1 Axes>"
      ]
     },
     "metadata": {},
     "output_type": "display_data"
    }
   ],
   "source": [
    "df.Location.value_counts().plot(kind='bar',color='g')"
   ]
  },
  {
   "cell_type": "code",
   "execution_count": 70,
   "id": "61a533a2-616c-4700-9189-3b690a9f3f08",
   "metadata": {},
   "outputs": [
    {
     "data": {
      "text/plain": [
       "<Axes: ylabel='count'>"
      ]
     },
     "execution_count": 70,
     "metadata": {},
     "output_type": "execute_result"
    },
    {
     "data": {
      "image/png": "[encoded data removed]",
      "text/plain": [
       "<Figure size 640x480 with 1 Axes>"
      ]
     },
     "metadata": {},
     "output_type": "display_data"
    }
   ],
   "source": [
    "df.Furnishing.value_counts().plot(kind='pie',autopct='%1.1f%%',shadow=True,explode=[0.1,0,0])"
   ]
  },
  {
   "cell_type": "code",
   "execution_count": 75,
   "id": "62495bbf-25c7-43a7-8840-5ce720e95489",
   "metadata": {},
   "outputs": [
    {
     "data": {
      "text/plain": [
       "<Axes: >"
      ]
     },
     "execution_count": 75,
     "metadata": {},
     "output_type": "execute_result"
    },
    {
     "data": {
      "image/png": "[encoded data removed]",
      "text/plain": [
       "<Figure size 640x480 with 1 Axes>"
      ]
     },
     "metadata": {},
     "output_type": "display_data"
    }
   ],
   "source": [
    "df.Price.plot()"
   ]
  },
  {
   "cell_type": "code",
   "execution_count": 78,
   "id": "17689aa4-afee-463d-ab64-d93ece235841",
   "metadata": {},
   "outputs": [
    {
     "data": {
      "text/html": [
       "<div>\n",
       "<style scoped>\n",
       "    .dataframe tbody tr th:only-of-type {\n",
       "        vertical-align: middle;\n",
       "    }\n",
       "\n",
       "    .dataframe tbody tr th {\n",
       "        vertical-align: top;\n",
       "    }\n",
       "\n",
       "    .dataframe thead th {\n",
       "        text-align: right;\n",
       "    }\n",
       "</style>\n",
       "<table border=\"1\" class=\"dataframe\">\n",
       "  <thead>\n",
       "    <tr style=\"text-align: right;\">\n",
       "      <th></th>\n",
       "      <th>Area</th>\n",
       "      <th>BHK</th>\n",
       "      <th>Bathroom</th>\n",
       "      <th>Furnishing</th>\n",
       "      <th>Location</th>\n",
       "      <th>District</th>\n",
       "      <th>Locality</th>\n",
       "      <th>Parking</th>\n",
       "      <th>Status</th>\n",
       "      <th>Transaction</th>\n",
       "      <th>Type</th>\n",
       "      <th>Per_Sqft</th>\n",
       "      <th>Price</th>\n",
       "    </tr>\n",
       "  </thead>\n",
       "  <tbody>\n",
       "    <tr>\n",
       "      <th>472</th>\n",
       "      <td>8000.0</td>\n",
       "      <td>4</td>\n",
       "      <td>5.0</td>\n",
       "      <td>Semi-Furnished</td>\n",
       "      <td>Lajpat Nagar</td>\n",
       "      <td>South Delhi</td>\n",
       "      <td>Lajpat Nagar</td>\n",
       "      <td>1.0</td>\n",
       "      <td>Ready_to_move</td>\n",
       "      <td>New_Property</td>\n",
       "      <td>Builder_Floor</td>\n",
       "      <td>22000.0</td>\n",
       "      <td>240000000</td>\n",
       "    </tr>\n",
       "    <tr>\n",
       "      <th>473</th>\n",
       "      <td>8000.0</td>\n",
       "      <td>4</td>\n",
       "      <td>5.0</td>\n",
       "      <td>Semi-Furnished</td>\n",
       "      <td>Lajpat Nagar</td>\n",
       "      <td>South Delhi</td>\n",
       "      <td>Lajpat Nagar</td>\n",
       "      <td>1.0</td>\n",
       "      <td>Ready_to_move</td>\n",
       "      <td>New_Property</td>\n",
       "      <td>Builder_Floor</td>\n",
       "      <td>20000.0</td>\n",
       "      <td>240000000</td>\n",
       "    </tr>\n",
       "  </tbody>\n",
       "</table>\n",
       "</div>"
      ],
      "text/plain": [
       "       Area  BHK  Bathroom      Furnishing      Location     District  \\\n",
       "472  8000.0    4       5.0  Semi-Furnished  Lajpat Nagar  South Delhi   \n",
       "473  8000.0    4       5.0  Semi-Furnished  Lajpat Nagar  South Delhi   \n",
       "\n",
       "         Locality  Parking         Status   Transaction           Type  \\\n",
       "472  Lajpat Nagar      1.0  Ready_to_move  New_Property  Builder_Floor   \n",
       "473  Lajpat Nagar      1.0  Ready_to_move  New_Property  Builder_Floor   \n",
       "\n",
       "     Per_Sqft      Price  \n",
       "472   22000.0  240000000  \n",
       "473   20000.0  240000000  "
      ]
     },
     "execution_count": 78,
     "metadata": {},
     "output_type": "execute_result"
    }
   ],
   "source": [
    "df[df.Price==df.Price.max()]"
   ]
  },
  {
   "cell_type": "code",
   "execution_count": 82,
   "id": "d2753490-afc4-452c-86ea-21dd17277123",
   "metadata": {},
   "outputs": [
    {
     "data": {
      "text/html": [
       "<div>\n",
       "<style scoped>\n",
       "    .dataframe tbody tr th:only-of-type {\n",
       "        vertical-align: middle;\n",
       "    }\n",
       "\n",
       "    .dataframe tbody tr th {\n",
       "        vertical-align: top;\n",
       "    }\n",
       "\n",
       "    .dataframe thead th {\n",
       "        text-align: right;\n",
       "    }\n",
       "</style>\n",
       "<table border=\"1\" class=\"dataframe\">\n",
       "  <thead>\n",
       "    <tr style=\"text-align: right;\">\n",
       "      <th></th>\n",
       "      <th>Area</th>\n",
       "      <th>BHK</th>\n",
       "      <th>Bathroom</th>\n",
       "      <th>Furnishing</th>\n",
       "      <th>Location</th>\n",
       "      <th>District</th>\n",
       "      <th>Locality</th>\n",
       "      <th>Parking</th>\n",
       "      <th>Status</th>\n",
       "      <th>Transaction</th>\n",
       "      <th>Type</th>\n",
       "      <th>Per_Sqft</th>\n",
       "      <th>Price</th>\n",
       "    </tr>\n",
       "  </thead>\n",
       "  <tbody>\n",
       "    <tr>\n",
       "      <th>0</th>\n",
       "      <td>950.0</td>\n",
       "      <td>2</td>\n",
       "      <td>2.0</td>\n",
       "      <td>Furnished</td>\n",
       "      <td>Karol Bagh</td>\n",
       "      <td>Central Delhi</td>\n",
       "      <td>DDA MIG Flats Prasad Nagar Phase 2, Prasad Nag...</td>\n",
       "      <td>1.0</td>\n",
       "      <td>Ready_to_move</td>\n",
       "      <td>Resale</td>\n",
       "      <td>Apartment</td>\n",
       "      <td>8761.0</td>\n",
       "      <td>12500000</td>\n",
       "    </tr>\n",
       "    <tr>\n",
       "      <th>2</th>\n",
       "      <td>1280.0</td>\n",
       "      <td>3</td>\n",
       "      <td>3.0</td>\n",
       "      <td>Furnished</td>\n",
       "      <td>Karol Bagh</td>\n",
       "      <td>Central Delhi</td>\n",
       "      <td>Karol Bagh</td>\n",
       "      <td>2.0</td>\n",
       "      <td>Ready_to_move</td>\n",
       "      <td>Resale</td>\n",
       "      <td>Builder_Floor</td>\n",
       "      <td>14092.0</td>\n",
       "      <td>15000000</td>\n",
       "    </tr>\n",
       "    <tr>\n",
       "      <th>3</th>\n",
       "      <td>1135.0</td>\n",
       "      <td>3</td>\n",
       "      <td>3.0</td>\n",
       "      <td>Furnished</td>\n",
       "      <td>Karol Bagh</td>\n",
       "      <td>Central Delhi</td>\n",
       "      <td>The Amaryllis, Karol Bagh</td>\n",
       "      <td>2.0</td>\n",
       "      <td>Almost_ready</td>\n",
       "      <td>Resale</td>\n",
       "      <td>Apartment</td>\n",
       "      <td>22222.0</td>\n",
       "      <td>25000000</td>\n",
       "    </tr>\n",
       "    <tr>\n",
       "      <th>4</th>\n",
       "      <td>1135.0</td>\n",
       "      <td>3</td>\n",
       "      <td>3.0</td>\n",
       "      <td>Furnished</td>\n",
       "      <td>Karol Bagh</td>\n",
       "      <td>Central Delhi</td>\n",
       "      <td>The Amaryllis, Karol Bagh</td>\n",
       "      <td>2.0</td>\n",
       "      <td>Almost_ready</td>\n",
       "      <td>Resale</td>\n",
       "      <td>Apartment</td>\n",
       "      <td>22222.0</td>\n",
       "      <td>25000000</td>\n",
       "    </tr>\n",
       "    <tr>\n",
       "      <th>5</th>\n",
       "      <td>1135.0</td>\n",
       "      <td>3</td>\n",
       "      <td>3.0</td>\n",
       "      <td>Furnished</td>\n",
       "      <td>Karol Bagh</td>\n",
       "      <td>Central Delhi</td>\n",
       "      <td>The Amaryllis, Karol Bagh</td>\n",
       "      <td>2.0</td>\n",
       "      <td>Almost_ready</td>\n",
       "      <td>Resale</td>\n",
       "      <td>Apartment</td>\n",
       "      <td>14366.0</td>\n",
       "      <td>25000000</td>\n",
       "    </tr>\n",
       "    <tr>\n",
       "      <th>...</th>\n",
       "      <td>...</td>\n",
       "      <td>...</td>\n",
       "      <td>...</td>\n",
       "      <td>...</td>\n",
       "      <td>...</td>\n",
       "      <td>...</td>\n",
       "      <td>...</td>\n",
       "      <td>...</td>\n",
       "      <td>...</td>\n",
       "      <td>...</td>\n",
       "      <td>...</td>\n",
       "      <td>...</td>\n",
       "      <td>...</td>\n",
       "    </tr>\n",
       "    <tr>\n",
       "      <th>1207</th>\n",
       "      <td>3901.0</td>\n",
       "      <td>4</td>\n",
       "      <td>4.0</td>\n",
       "      <td>Unfurnished</td>\n",
       "      <td>Patel Nagar</td>\n",
       "      <td>West Delhi</td>\n",
       "      <td>The Leela Sky Villas, Patel Nagar</td>\n",
       "      <td>1.0</td>\n",
       "      <td>Almost_ready</td>\n",
       "      <td>New_Property</td>\n",
       "      <td>Apartment</td>\n",
       "      <td>23840.0</td>\n",
       "      <td>93000000</td>\n",
       "    </tr>\n",
       "    <tr>\n",
       "      <th>1208</th>\n",
       "      <td>2306.0</td>\n",
       "      <td>3</td>\n",
       "      <td>3.0</td>\n",
       "      <td>Unfurnished</td>\n",
       "      <td>Patel Nagar</td>\n",
       "      <td>West Delhi</td>\n",
       "      <td>The Leela Sky Villas, Patel Nagar</td>\n",
       "      <td>1.0</td>\n",
       "      <td>Almost_ready</td>\n",
       "      <td>New_Property</td>\n",
       "      <td>Apartment</td>\n",
       "      <td>24718.0</td>\n",
       "      <td>57000000</td>\n",
       "    </tr>\n",
       "    <tr>\n",
       "      <th>1209</th>\n",
       "      <td>4688.0</td>\n",
       "      <td>5</td>\n",
       "      <td>4.0</td>\n",
       "      <td>Unfurnished</td>\n",
       "      <td>Patel Nagar</td>\n",
       "      <td>West Delhi</td>\n",
       "      <td>The Leela Sky Villas, Patel Nagar</td>\n",
       "      <td>1.0</td>\n",
       "      <td>Almost_ready</td>\n",
       "      <td>New_Property</td>\n",
       "      <td>Apartment</td>\n",
       "      <td>28797.0</td>\n",
       "      <td>135000000</td>\n",
       "    </tr>\n",
       "    <tr>\n",
       "      <th>1210</th>\n",
       "      <td>3901.0</td>\n",
       "      <td>4</td>\n",
       "      <td>4.0</td>\n",
       "      <td>Unfurnished</td>\n",
       "      <td>Patel Nagar</td>\n",
       "      <td>West Delhi</td>\n",
       "      <td>The Leela Sky Villas, Patel Nagar</td>\n",
       "      <td>1.0</td>\n",
       "      <td>Almost_ready</td>\n",
       "      <td>New_Property</td>\n",
       "      <td>Apartment</td>\n",
       "      <td>23840.0</td>\n",
       "      <td>93000000</td>\n",
       "    </tr>\n",
       "    <tr>\n",
       "      <th>1211</th>\n",
       "      <td>2306.0</td>\n",
       "      <td>3</td>\n",
       "      <td>3.0</td>\n",
       "      <td>Unfurnished</td>\n",
       "      <td>Patel Nagar</td>\n",
       "      <td>West Delhi</td>\n",
       "      <td>The Leela Sky Villas, Patel Nagar</td>\n",
       "      <td>1.0</td>\n",
       "      <td>Almost_ready</td>\n",
       "      <td>New_Property</td>\n",
       "      <td>Apartment</td>\n",
       "      <td>24718.0</td>\n",
       "      <td>57000000</td>\n",
       "    </tr>\n",
       "  </tbody>\n",
       "</table>\n",
       "<p>718 rows × 13 columns</p>\n",
       "</div>"
      ],
      "text/plain": [
       "        Area  BHK  Bathroom   Furnishing     Location       District  \\\n",
       "0      950.0    2       2.0    Furnished   Karol Bagh  Central Delhi   \n",
       "2     1280.0    3       3.0    Furnished   Karol Bagh  Central Delhi   \n",
       "3     1135.0    3       3.0    Furnished   Karol Bagh  Central Delhi   \n",
       "4     1135.0    3       3.0    Furnished   Karol Bagh  Central Delhi   \n",
       "5     1135.0    3       3.0    Furnished   Karol Bagh  Central Delhi   \n",
       "...      ...  ...       ...          ...          ...            ...   \n",
       "1207  3901.0    4       4.0  Unfurnished  Patel Nagar     West Delhi   \n",
       "1208  2306.0    3       3.0  Unfurnished  Patel Nagar     West Delhi   \n",
       "1209  4688.0    5       4.0  Unfurnished  Patel Nagar     West Delhi   \n",
       "1210  3901.0    4       4.0  Unfurnished  Patel Nagar     West Delhi   \n",
       "1211  2306.0    3       3.0  Unfurnished  Patel Nagar     West Delhi   \n",
       "\n",
       "                                               Locality  Parking  \\\n",
       "0     DDA MIG Flats Prasad Nagar Phase 2, Prasad Nag...      1.0   \n",
       "2                                            Karol Bagh      2.0   \n",
       "3                             The Amaryllis, Karol Bagh      2.0   \n",
       "4                             The Amaryllis, Karol Bagh      2.0   \n",
       "5                             The Amaryllis, Karol Bagh      2.0   \n",
       "...                                                 ...      ...   \n",
       "1207                  The Leela Sky Villas, Patel Nagar      1.0   \n",
       "1208                  The Leela Sky Villas, Patel Nagar      1.0   \n",
       "1209                  The Leela Sky Villas, Patel Nagar      1.0   \n",
       "1210                  The Leela Sky Villas, Patel Nagar      1.0   \n",
       "1211                  The Leela Sky Villas, Patel Nagar      1.0   \n",
       "\n",
       "             Status   Transaction           Type  Per_Sqft      Price  \n",
       "0     Ready_to_move        Resale      Apartment    8761.0   12500000  \n",
       "2     Ready_to_move        Resale  Builder_Floor   14092.0   15000000  \n",
       "3      Almost_ready        Resale      Apartment   22222.0   25000000  \n",
       "4      Almost_ready        Resale      Apartment   22222.0   25000000  \n",
       "5      Almost_ready        Resale      Apartment   14366.0   25000000  \n",
       "...             ...           ...            ...       ...        ...  \n",
       "1207   Almost_ready  New_Property      Apartment   23840.0   93000000  \n",
       "1208   Almost_ready  New_Property      Apartment   24718.0   57000000  \n",
       "1209   Almost_ready  New_Property      Apartment   28797.0  135000000  \n",
       "1210   Almost_ready  New_Property      Apartment   23840.0   93000000  \n",
       "1211   Almost_ready  New_Property      Apartment   24718.0   57000000  \n",
       "\n",
       "[718 rows x 13 columns]"
      ]
     },
     "execution_count": 82,
     "metadata": {},
     "output_type": "execute_result"
    }
   ],
   "source": [
    "df[df.Price>10000000]"
   ]
  },
  {
   "cell_type": "code",
   "execution_count": null,
   "id": "1dd6b9a4-98fd-4dab-806e-240cac4e5c25",
   "metadata": {},
   "outputs": [],
   "source": []
  }
 ],
 "metadata": {
  "kernelspec": {
   "display_name": "Python 3 (ipykernel)",
   "language": "python",
   "name": "python3"
  },
  "language_info": {
   "codemirror_mode": {
    "name": "ipython",
    "version": 3
   },
   "file_extension": ".py",
   "mimetype": "text/x-python",
   "name": "python",
   "nbconvert_exporter": "python",
   "pygments_lexer": "ipython3",
   "version": "3.11.7"
  }
 },
 "nbformat": 4,
 "nbformat_minor": 5
}
